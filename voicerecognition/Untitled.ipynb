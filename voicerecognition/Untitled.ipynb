{
 "cells": [
  {
   "cell_type": "code",
   "execution_count": 1,
   "metadata": {},
   "outputs": [
    {
     "name": "stdout",
     "output_type": "stream",
     "text": [
      "3.8.1\n"
     ]
    }
   ],
   "source": [
    "import speech_recognition as sr\n",
    "print(sr.__version__)"
   ]
  },
  {
   "cell_type": "code",
   "execution_count": 2,
   "metadata": {},
   "outputs": [],
   "source": [
    "r = sr.Recognizer()"
   ]
  },
  {
   "cell_type": "code",
   "execution_count": 13,
   "metadata": {},
   "outputs": [],
   "source": [
    "import gtts\n",
    "import pyttsx3"
   ]
  },
  {
   "cell_type": "code",
   "execution_count": 14,
   "metadata": {},
   "outputs": [],
   "source": [
    "engine = pyttsx3.init()\n",
    "engine.say(\"I Love you forever\")\n",
    "engine.say(\"文本转音频！\")\n",
    "engine.runAndWait()"
   ]
  },
  {
   "cell_type": "code",
   "execution_count": 7,
   "metadata": {},
   "outputs": [
    {
     "data": {
      "text/plain": [
       "'2.2.2'"
      ]
     },
     "execution_count": 7,
     "metadata": {},
     "output_type": "execute_result"
    }
   ],
   "source": [
    "gtts.__version__"
   ]
  },
  {
   "cell_type": "code",
   "execution_count": 76,
   "metadata": {},
   "outputs": [],
   "source": [
    "import os\n",
    "import pyttsx3\n",
    "import re\n",
    "#文件库\n",
    "import tkinter as tk\n",
    "from tkinter import filedialog\n",
    "#docx文件处理\n",
    "import docx\n",
    "from docx import Document\n",
    "def savetheaudio(Folderpath,Filepath,shotname,ratex,extension):\n",
    "    engine = pyttsx3.init()\n",
    "     # 获取当前语音速率\n",
    "    rate = engine.getProperty('rate')\n",
    "    print(f'语音速率:{rate}')\n",
    "    # 设置新的语音速率\n",
    "    engine.setProperty('rate', ratex)\n",
    "    if(extension=='.txt'):\n",
    "        with open(Filepath,encoding='utf-8') as f: \n",
    "            strx=f.read()\n",
    "        f.close()\n",
    "    else:\n",
    "        f = docx.Document(Filepath)\n",
    "        strx=''\n",
    "        for para in f.paragraphs:\n",
    "            strx =strx+para.text\n",
    "    engine.say(strx)\n",
    "    engine.save_to_file(strx,shotname+'.mp3')\n",
    "    engine.runAndWait()\n",
    "    print(\"文件目录：\"+Folderpath+'/'+shotname+'.mp3')\n",
    "def openfileandjudgement():\n",
    "    root=tk.Tk()\n",
    "    root.withdraw()\n",
    "    Folderpath = filedialog.askdirectory() #获得选择好的文件夹\n",
    "    Filepath = filedialog.askopenfilename() #获得选择好的文件\n",
    "    (filepath,tempfilename) = os.path.split(Filepath);\n",
    "    (shotname,extension) = os.path.splitext(tempfilename);\n",
    "    return Filepath ,shotname ,extension ,Folderpath"
   ]
  },
  {
   "cell_type": "code",
   "execution_count": 77,
   "metadata": {},
   "outputs": [
    {
     "name": "stdout",
     "output_type": "stream",
     "text": [
      "要处理的文件个数1\n",
      "请输入语速建议在200左右200\n",
      "语音速率:200\n",
      "文件目录：C:/Users/19509/Desktop/python/voicerecognition/34.mp3\n"
     ]
    }
   ],
   "source": [
    "if __name__ == '__main__':\n",
    "    #批量处理\n",
    "    num=int(input(\"要处理的文件个数\"))\n",
    "    ratex=int(input(\"请输入语速建议在200左右\"))\n",
    "    for i in range(num):\n",
    "        Filepath ,shotname ,extension ,Folderpath = openfileandjudgement()\n",
    "        savetheaudio(Folderpath,Filepath,shotname,ratex,extension)\n",
    "    "
   ]
  },
  {
   "cell_type": "code",
   "execution_count": null,
   "metadata": {},
   "outputs": [],
   "source": []
  }
 ],
 "metadata": {
  "kernelspec": {
   "display_name": "Python 3",
   "language": "python",
   "name": "python3"
  },
  "language_info": {
   "codemirror_mode": {
    "name": "ipython",
    "version": 3
   },
   "file_extension": ".py",
   "mimetype": "text/x-python",
   "name": "python",
   "nbconvert_exporter": "python",
   "pygments_lexer": "ipython3",
   "version": "3.8.5"
  }
 },
 "nbformat": 4,
 "nbformat_minor": 4
}
